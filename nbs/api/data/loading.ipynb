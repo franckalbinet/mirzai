{
 "cells": [
  {
   "cell_type": "code",
   "execution_count": null,
   "metadata": {},
   "outputs": [],
   "source": [
    "#| default_exp data.loading"
   ]
  },
  {
   "cell_type": "markdown",
   "metadata": {},
   "source": [
    "# Loading\n",
    "\n",
    "> Utility function to load MIRS spectra, measured exchangeable potassium and auxiliary data such as depth and Soil Taxonomy order\n",
    "- order: 1"
   ]
  },
  {
   "cell_type": "code",
   "execution_count": null,
   "metadata": {},
   "outputs": [],
   "source": [
    "#| hide\n",
    "from nbdev.showdoc import *"
   ]
  },
  {
   "cell_type": "code",
   "execution_count": null,
   "metadata": {},
   "outputs": [],
   "source": [
    "#|export\n",
    "from pathlib import Path\n",
    "import pickle\n",
    "import numpy as np\n",
    "from fastcore.test import *\n",
    "from typing import List"
   ]
  },
  {
   "cell_type": "code",
   "execution_count": null,
   "metadata": {},
   "outputs": [],
   "source": [
    "#|export\n",
    "def load_kssl(src_dir:str, # folder path containing data\n",
    "              fnames:List[str]=['spectra-features.npy', 'spectra-wavenumbers.npy', # filenames to open (in order)\n",
    "                                'depth-order.npy', 'target.npy',\n",
    "                                'tax-order-lu.pkl', 'spectra-id.npy'],\n",
    "             loaders_lut:dict={'.npy': np.load, '.pkl': pickle.load} # loaders lookup table\n",
    "             ):\n",
    "    \"\"\"\n",
    "    Function loading USDA KSSL dataset focusing here on Exchangeable Potassium (analyte_id=725).\n",
    "\n",
    "    Returns:\n",
    "        A tuple (X, X_names, depth_order, y, tax) with:\n",
    "            X: spectra (numpy.ndarray)\n",
    "            X_names: spectra wavenumbers (numpy.ndarray)\n",
    "            depth_order: depth and order of samples (numpy.ndarray)\n",
    "            y: exchangeable potassium content (numpy.ndarray)\n",
    "            tax_lookup: look up table order_id -> order_name (Dictionary)\n",
    "            X_id: unique id of spectra\n",
    "    \"\"\"\n",
    "    fnames = [Path(src_dir)/fname for fname in fnames]\n",
    "    loaders = [loaders_lut[fname.suffix] for fname in fnames]\n",
    "    return [loader(open(fname, 'rb')) for loader, fname in zip(loaders, fnames)]"
   ]
  },
  {
   "cell_type": "markdown",
   "metadata": {},
   "source": [
    "Loads in one call all required data: the Mid-Infrared spectra (the features), associated exchangeable potassium wet chemistry (the target) and additional data such as wavenumbers name, soil depth and others. "
   ]
  },
  {
   "cell_type": "markdown",
   "metadata": {},
   "source": [
    "For instance to open a subsample of the dataset (see setup to download the full dataset):"
   ]
  },
  {
   "cell_type": "code",
   "execution_count": null,
   "metadata": {},
   "outputs": [],
   "source": [
    "src_dir = 'test'\n",
    "fnames = ['spectra-features-smp.npy', 'spectra-wavenumbers-smp.npy', \n",
    "          'depth-order-smp.npy', 'target-smp.npy', \n",
    "          'tax-order-lu-smp.pkl', 'spectra-id-smp.npy']\n",
    "\n",
    "X, X_names, depth_order, y, tax_lookup, X_id = load_kssl(src_dir, fnames=fnames)"
   ]
  },
  {
   "cell_type": "code",
   "execution_count": null,
   "metadata": {},
   "outputs": [
    {
     "name": "stdout",
     "output_type": "stream",
     "text": [
      "X shape: (100, 1764)\n",
      "y shape: (100,)\n",
      "Wavenumbers:\n",
      " [3999 3997 3995 ...  603  601  599]\n",
      "depth_order (first 3 rows):\n",
      " [[ 0.  1.]\n",
      " [19.  4.]\n",
      " [43. 12.]]\n",
      "Taxonomic order lookup:\n",
      " {'alfisols': 0, 'mollisols': 1, 'inceptisols': 2, 'entisols': 3, 'spodosols': 4, 'undefined': 5, 'ultisols': 6, 'andisols': 7, 'histosols': 8, 'oxisols': 9, 'vertisols': 10, 'aridisols': 11, 'gelisols': 12}\n"
     ]
    }
   ],
   "source": [
    "print(f'X shape: {X.shape}')\n",
    "print(f'y shape: {y.shape}')\n",
    "print(f'Wavenumbers:\\n {X_names}')\n",
    "print(f'depth_order (first 3 rows):\\n {depth_order[:3, :]}')\n",
    "print(f'Taxonomic order lookup:\\n {tax_lookup}')"
   ]
  },
  {
   "cell_type": "code",
   "execution_count": null,
   "metadata": {},
   "outputs": [],
   "source": [
    "test_eq(X.shape, (100, 1764))\n",
    "test_eq(y.shape, (100,))\n",
    "test_eq(len(X_names), 1764)\n",
    "test_eq(depth_order.shape, (100,2))\n",
    "test_eq(len(tax_lookup), 13)"
   ]
  }
 ],
 "metadata": {
  "kernelspec": {
   "display_name": "Python 3 (ipykernel)",
   "language": "python",
   "name": "python3"
  }
 },
 "nbformat": 4,
 "nbformat_minor": 2
}
