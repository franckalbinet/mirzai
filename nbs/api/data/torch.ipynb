{
 "cells": [
  {
   "cell_type": "code",
   "execution_count": null,
   "metadata": {},
   "outputs": [],
   "source": [
    "#| default_exp data.torch"
   ]
  },
  {
   "cell_type": "markdown",
   "metadata": {},
   "source": [
    "# PyTorch data loaders and transforms\n",
    "\n",
    "> PyTorch DataLoaders, DataSet and transforms"
   ]
  },
  {
   "cell_type": "code",
   "execution_count": null,
   "metadata": {},
   "outputs": [],
   "source": [
    "#| hide\n",
    "from nbdev.showdoc import *"
   ]
  },
  {
   "cell_type": "code",
   "execution_count": null,
   "metadata": {},
   "outputs": [
    {
     "name": "stderr",
     "output_type": "stream",
     "text": [
      "/Users/franckalbinet/mambaforge/envs/mirzai/lib/python3.10/site-packages/tqdm/auto.py:22: TqdmWarning: IProgress not found. Please update jupyter and ipywidgets. See https://ipywidgets.readthedocs.io/en/stable/user_install.html\n",
      "  from .autonotebook import tqdm as notebook_tqdm\n"
     ]
    }
   ],
   "source": [
    "#|export\n",
    "#nbdev_comment from __future__ import annotations\n",
    "import numpy as np\n",
    "\n",
    "from fastcore.test import *\n",
    "\n",
    "from mirzai.data.loading import load_kssl\n",
    "from mirzai.data.selection import (select_y, select_tax_order, select_X)\n",
    "from mirzai.data.transform import (log_transform_y, SNV)\n",
    "\n",
    "from sklearn.model_selection import train_test_split\n",
    "\n",
    "from fastcore.transform import compose\n",
    "\n",
    "import torch\n",
    "from torch import nn\n",
    "from torchvision import transforms\n",
    "from torch.utils.data import DataLoader, Dataset"
   ]
  },
  {
   "cell_type": "markdown",
   "metadata": {},
   "source": [
    "## Loaders & datasets"
   ]
  },
  {
   "cell_type": "code",
   "execution_count": null,
   "metadata": {},
   "outputs": [],
   "source": [
    "#|export\n",
    "class SpectralDataset(Dataset):\n",
    "    def __init__(self, X, y, tax_order, transform=None):\n",
    "        self.X = X\n",
    "        self.y = y\n",
    "        self.tax_order = tax_order\n",
    "        self.transform = transform\n",
    "\n",
    "    def __len__(self):\n",
    "        return len(self.y)\n",
    "\n",
    "    def __getitem__(self, idx):\n",
    "        X = self.X[None, idx, :]\n",
    "        y = self.y[None, idx]\n",
    "        tax_order = self.tax_order[None, idx]\n",
    "        if self.transform:\n",
    "            X = self.transform(X)\n",
    "        return X.astype(np.float32), y.astype(np.float32), tax_order.astype(np.intc)"
   ]
  },
  {
   "cell_type": "code",
   "execution_count": null,
   "metadata": {},
   "outputs": [],
   "source": [
    "#|export\n",
    "class DataLoaders():\n",
    "    def __init__(self, *args, transform=None, batch_size=32):\n",
    "        \"\"\"\n",
    "        Convert numpy error to Pytorch data loaders (generators)\n",
    "        Args:\n",
    "            *args: one or many tuple as ((X_train, y_train, tax_order), (X_test, y_test, tax_order))\n",
    "            transform: callable class (__class__)\n",
    "\n",
    "        Returns:\n",
    "            (training_generator, validation_generator)\n",
    "        \"\"\"\n",
    "        self.data = args\n",
    "        self.batch_size = batch_size\n",
    "        self.transform = transform if transform else Noop()\n",
    "\n",
    "    def loaders(self):\n",
    "        return (DataLoader(SpectralDataset(X, y, tax_order, transform=self.transform), \n",
    "                           batch_size=self.batch_size,\n",
    "                           drop_last=False)\n",
    "                for X, y, tax_order in self.data)"
   ]
  },
  {
   "cell_type": "markdown",
   "metadata": {},
   "source": [
    "## Transforms"
   ]
  },
  {
   "cell_type": "code",
   "execution_count": null,
   "metadata": {},
   "outputs": [],
   "source": [
    "#|export\n",
    "class SNV_transform():\n",
    "    def __init__(self):\n",
    "        None\n",
    "    def __call__(self, spectrum):\n",
    "        return SNV().fit_transform(spectrum)"
   ]
  },
  {
   "cell_type": "code",
   "execution_count": null,
   "metadata": {},
   "outputs": [],
   "source": [
    "#|export\n",
    "class Noop():\n",
    "    def __init__(self):\n",
    "        None\n",
    "    def __call__(self, X):\n",
    "        return X"
   ]
  },
  {
   "cell_type": "markdown",
   "metadata": {},
   "source": [
    "## Example of use"
   ]
  },
  {
   "cell_type": "markdown",
   "metadata": {},
   "source": [
    "### Load and preprocess data"
   ]
  },
  {
   "cell_type": "code",
   "execution_count": null,
   "metadata": {},
   "outputs": [],
   "source": [
    "src_dir = 'test'\n",
    "fnames = ['spectra-features-smp.npy', 'spectra-wavenumbers-smp.npy', \n",
    "          'depth-order-smp.npy', 'target-smp.npy', \n",
    "          'tax-order-lu-smp.pkl', 'spectra-id-smp.npy']\n",
    "\n",
    "X, X_names, depth_order, y, tax_lookup, X_id = load_kssl(src_dir, fnames=fnames)\n",
    "transforms = [select_y, select_tax_order, select_X, log_transform_y]\n",
    "\n",
    "data = X, y, X_id, depth_order\n",
    "X, y, X_id, depth_order = compose(*transforms)(data)"
   ]
  },
  {
   "cell_type": "markdown",
   "metadata": {},
   "source": [
    "### Train/test split"
   ]
  },
  {
   "cell_type": "code",
   "execution_count": null,
   "metadata": {},
   "outputs": [],
   "source": [
    "data = train_test_split(X, y, depth_order[:, 1], test_size=0.1, random_state=42)\n",
    "X_train, X_test, y_train, y_test, tax_order_train, tax_order_test = data\n",
    "\n",
    "\n",
    "data = train_test_split(X_train, y_train, tax_order_train, test_size=0.1, random_state=42)\n",
    "X_train, X_valid, y_train, y_valid, tax_order_train, tax_order_valid = data"
   ]
  },
  {
   "cell_type": "markdown",
   "metadata": {},
   "source": [
    "### Create the generators"
   ]
  },
  {
   "cell_type": "code",
   "execution_count": null,
   "metadata": {},
   "outputs": [],
   "source": [
    "dls = DataLoaders((X_train, y_train, tax_order_train), \n",
    "                  (X_valid, y_valid, tax_order_valid), \n",
    "                  (X_test, y_test, tax_order_test), transform=SNV_transform())\n",
    "\n",
    "training_generator, validation_generator, test_generator = dls.loaders()"
   ]
  },
  {
   "cell_type": "markdown",
   "metadata": {},
   "source": [
    "### Iterate over data (features, targets) mini batches"
   ]
  },
  {
   "cell_type": "code",
   "execution_count": null,
   "metadata": {},
   "outputs": [
    {
     "name": "stdout",
     "output_type": "stream",
     "text": [
      "Batch of features (spectra): torch.Size([32, 1, 1764])\n",
      "Batch of targets: torch.Size([32, 1])\n",
      "Batch of Soil taxonomy orders id: torch.Size([32, 1])\n",
      "Batch of features (spectra): torch.Size([31, 1, 1764])\n",
      "Batch of targets: torch.Size([31, 1])\n",
      "Batch of Soil taxonomy orders id: torch.Size([31, 1])\n"
     ]
    }
   ],
   "source": [
    "for features, target, tax in training_generator:\n",
    "    print(f'Batch of features (spectra): {features.shape}')\n",
    "    print(f'Batch of targets: {target.shape}')\n",
    "    print(f'Batch of Soil taxonomy orders id: {tax.shape}')"
   ]
  },
  {
   "cell_type": "code",
   "execution_count": null,
   "metadata": {},
   "outputs": [
    {
     "name": "stdout",
     "output_type": "stream",
     "text": [
      "Batch of features (spectra): torch.Size([8, 1, 1764])\n",
      "Batch of targets: torch.Size([8, 1])\n"
     ]
    }
   ],
   "source": [
    "for features, target, _ in validation_generator:\n",
    "    print(f'Batch of features (spectra): {features.shape}')\n",
    "    print(f'Batch of targets: {target.shape}')"
   ]
  },
  {
   "cell_type": "code",
   "execution_count": null,
   "metadata": {},
   "outputs": [
    {
     "name": "stdout",
     "output_type": "stream",
     "text": [
      "Batch of features (spectra): torch.Size([8, 1, 1764])\n",
      "Batch of targets: torch.Size([8, 1])\n"
     ]
    }
   ],
   "source": [
    "for features, target, _ in test_generator:\n",
    "    print(f'Batch of features (spectra): {features.shape}')\n",
    "    print(f'Batch of targets: {target.shape}')"
   ]
  }
 ],
 "metadata": {
  "kernelspec": {
   "display_name": "Python 3 (ipykernel)",
   "language": "python",
   "name": "python3"
  }
 },
 "nbformat": 4,
 "nbformat_minor": 2
}
