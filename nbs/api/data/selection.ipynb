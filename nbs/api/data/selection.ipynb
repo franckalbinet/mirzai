{
 "cells": [
  {
   "cell_type": "code",
   "execution_count": null,
   "metadata": {},
   "outputs": [],
   "source": [
    "#| default_exp data.selection"
   ]
  },
  {
   "cell_type": "markdown",
   "metadata": {},
   "source": [
    "# Selection\n",
    "\n",
    "> Utility function to select data subset based on target, features and auxiliary data (e.g. Soil Taxonomy order)\n",
    "- order: 2"
   ]
  },
  {
   "cell_type": "code",
   "execution_count": null,
   "metadata": {},
   "outputs": [],
   "source": [
    "#| hide\n",
    "from nbdev.showdoc import *"
   ]
  },
  {
   "cell_type": "code",
   "execution_count": null,
   "metadata": {},
   "outputs": [],
   "source": [
    "#|export\n",
    "from pathlib import Path\n",
    "import pickle\n",
    "import numpy as np\n",
    "from fastcore.test import *"
   ]
  },
  {
   "cell_type": "code",
   "execution_count": null,
   "metadata": {},
   "outputs": [],
   "source": [
    "#|export\n",
    "def select_y(data:tuple, # (X, y, X_id, depth_order)\n",
    "             low:float=0.12, # Lowest limit\n",
    "             high:float=999 # Highest limit\n",
    "            ):\n",
    "    \"\"\"Select data based on the limit values of the target\"\"\"\n",
    "    X, y, X_id, depth_order = data\n",
    "    idx = np.logical_and((y >= low), (y <= high))\n",
    "    return X[idx, :], y[idx], X_id[idx], depth_order[idx, :]"
   ]
  },
  {
   "cell_type": "code",
   "execution_count": null,
   "metadata": {},
   "outputs": [],
   "source": [
    "#|export\n",
    "def select_tax_order(data:tuple, # (X, y, X_id, depth_order)\n",
    "                     tax_order:int=None # Value between 0 and 12\n",
    "                    ):\n",
    "    \"\"\"Select data based on Soil Taxonomy order\"\"\"\n",
    "    X, y, X_id, depth_order = data\n",
    "    if tax_order:\n",
    "        idx = depth_order[:, 1] == tax_order\n",
    "        return X[idx, :], y[idx], X_id[idx], depth_order[idx, :]\n",
    "    else:\n",
    "        return data"
   ]
  },
  {
   "cell_type": "code",
   "execution_count": null,
   "metadata": {},
   "outputs": [],
   "source": [
    "#|export\n",
    "def select_X(data:tuple, # (X, y, X_id, depth_order)\n",
    "             low:int=0 # Lowest absorbance value\n",
    "            ):\n",
    "    \"\"\"Select data based on the limit values (only low) of the features\"\"\"\n",
    "    X, y, X_id, depth_order = data\n",
    "    idx = np.min(X, axis=1) > low\n",
    "    return X[idx, :], y[idx], X_id[idx], depth_order[idx, :]"
   ]
  },
  {
   "cell_type": "code",
   "execution_count": null,
   "metadata": {},
   "outputs": [],
   "source": [
    "#|export\n",
    "def get_y_by_order(y, tax_order, tax_lookup):\n",
    "    tax_values, count_by_order = np.unique(tax_order, return_counts=True)\n",
    "    idx_order = count_by_order.argsort()\n",
    "\n",
    "    y_by_order = []\n",
    "    for tax in tax_values[idx_order]:\n",
    "        mask_order = tax_order == tax\n",
    "        y_by_order.append(y[mask_order])\n",
    "\n",
    "    return (y_by_order, count_by_order[idx_order], idx_order)"
   ]
  }
 ],
 "metadata": {
  "kernelspec": {
   "display_name": "Python 3 (ipykernel)",
   "language": "python",
   "name": "python3"
  }
 },
 "nbformat": 4,
 "nbformat_minor": 2
}
