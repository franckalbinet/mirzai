{
 "cells": [
  {
   "cell_type": "code",
   "execution_count": null,
   "metadata": {},
   "outputs": [],
   "source": [
    "#| default_exp vis.core"
   ]
  },
  {
   "cell_type": "markdown",
   "metadata": {},
   "source": [
    "# Visualization\n",
    "\n",
    "> Maplotlib charts"
   ]
  },
  {
   "cell_type": "code",
   "execution_count": null,
   "metadata": {},
   "outputs": [],
   "source": [
    "#| hide\n",
    "from nbdev.showdoc import *"
   ]
  },
  {
   "cell_type": "code",
   "execution_count": null,
   "metadata": {},
   "outputs": [],
   "source": [
    "#|export\n",
    "from mirzai.data.loading import load_kssl\n",
    "from mirzai.data.selection import get_y_by_order\n",
    "import numpy as np\n",
    "\n",
    "import matplotlib.pyplot as plt\n",
    "from matplotlib.ticker import EngFormatter\n",
    "from matplotlib import ticker\n",
    "from fastcore.test import *"
   ]
  },
  {
   "cell_type": "markdown",
   "metadata": {},
   "source": [
    "## CONFIGS"
   ]
  },
  {
   "cell_type": "code",
   "execution_count": null,
   "metadata": {},
   "outputs": [],
   "source": [
    "#|export\n",
    "PRIMARY_COLOR = '#333'\n",
    "ACCENT_COLOR = 'firebrick'\n",
    "DEFAULT_STYLE = {\n",
    "    'axes.linewidth': 0.5,\n",
    "    'axes.facecolor': 'white',\n",
    "    'axes.ymargin': 0.11,\n",
    "    'font.size': 8,\n",
    "    \n",
    "    'axes.spines.bottom': True,\n",
    "    'axes.spines.left': False,\n",
    "    'axes.spines.right': False,\n",
    "    'axes.spines.top': False,\n",
    "    'axes.grid': True,\n",
    "    \n",
    "    'grid.color': 'black',\n",
    "    'grid.linewidth': 0.2,\n",
    "    'grid.linestyle': '-',\n",
    "\n",
    "    'xtick.bottom': True,\n",
    "    'xtick.top': False,\n",
    "    'xtick.direction': 'out',\n",
    "    'xtick.major.size': 5,\n",
    "    'xtick.major.width': 1,\n",
    "    'xtick.minor.size': 3,\n",
    "    'xtick.minor.width': 0.5,\n",
    "    'xtick.minor.visible': True,\n",
    "        \n",
    "    'ytick.left': True,\n",
    "    'ytick.right': False, \n",
    "    'ytick.direction': 'in',\n",
    "    'ytick.major.size': 5,\n",
    "    'ytick.major.width': 1,\n",
    "    'ytick.minor.size': 3,\n",
    "    'ytick.minor.width': 0.5,\n",
    "    'ytick.minor.visible': True\n",
    "}\n",
    "\n",
    "centimeter = 1/2.54  # centimeters in inches"
   ]
  },
  {
   "cell_type": "code",
   "execution_count": null,
   "metadata": {},
   "outputs": [],
   "source": [
    "#|export\n",
    "def set_style(style:dict # Dictionary of plt.rcParams\n",
    "             ):\n",
    "    for k, v in style.items():\n",
    "        plt.rcParams[k] = v "
   ]
  },
  {
   "cell_type": "markdown",
   "metadata": {},
   "source": [
    "## EDA"
   ]
  },
  {
   "cell_type": "code",
   "execution_count": null,
   "metadata": {},
   "outputs": [],
   "source": [
    "#|export\n",
    "def plot_spectra(X:np.ndarray, # Spectra (n_samples, n_wavenumbers)\n",
    "                 X_names:np.ndarray, # Wavenumbers (n_wavenumbers)\n",
    "                 figsize=(18, 5), # Wavenumbers\n",
    "                 sample=20): # Size of random subset\n",
    "    \"\"\"Plot Mid-infrared spectra\"\"\"\n",
    "    fig, ax = plt.subplots(figsize=figsize)\n",
    "    idx = np.random.randint(X.shape[0], size=sample)\n",
    "    ax.set_xlim(np.max(X_names), np.min(X_names))\n",
    "    ax.set(xlabel='Wavenumber', ylabel='Absorbance')\n",
    "    ax.set_axisbelow(True)\n",
    "    ax.grid(True, which='both')\n",
    "    _ = ax.plot(X_names, X[idx, :].T)"
   ]
  },
  {
   "cell_type": "code",
   "execution_count": null,
   "metadata": {},
   "outputs": [],
   "source": [
    "#|export\n",
    "def summary_plot(y:np.ndarray, # Target variable (n_samples)\n",
    "                 depth_order:np.ndarray, # Soil and Depth (n_samples, 2)\n",
    "                 tax_lookup:dict, # {'alfisols': 0,'mollisols': 1, ...}\n",
    "                ):\n",
    "    p = plt.rcParams\n",
    "    p[\"font.size\"] = 8\n",
    "\n",
    "    p[\"axes.linewidth\"] = 1\n",
    "    p[\"axes.facecolor\"] = \"white\"\n",
    "    p[\"axes.ymargin\"] = 0.1\n",
    "    p[\"axes.spines.bottom\"] = True\n",
    "    p[\"axes.spines.left\"] = False\n",
    "    p[\"axes.spines.right\"] = False\n",
    "    p[\"axes.spines.top\"] = False\n",
    "\n",
    "    p[\"axes.grid\"] = True\n",
    "    p[\"grid.color\"] = \"black\"\n",
    "    p[\"grid.linewidth\"] = 0.2\n",
    "    p['grid.linestyle'] = '--'\n",
    "\n",
    "    p[\"ytick.left\"] = True\n",
    "    p[\"ytick.right\"] = True\n",
    "    p[\"ytick.major.size\"] = 0\n",
    "    p[\"ytick.major.width\"] = 1\n",
    "    p[\"ytick.minor.size\"] = 0\n",
    "    p[\"ytick.minor.width\"] = 0.5\n",
    "    p[\"ytick.minor.visible\"] = False\n",
    "\n",
    "    fig, (ax1, ax2) = plt.subplots(nrows=1,ncols=2, gridspec_kw={'width_ratios': [2, 2]},\n",
    "                                   sharey=True, figsize=(15*centimeter, 8*centimeter), dpi=600)\n",
    "\n",
    "    y_by_order, count_by_order, idx_order = get_y_by_order(y, depth_order[:, 1], tax_lookup)\n",
    "    y_labels = np.array([k.capitalize() for k, v in tax_lookup.items()])[idx_order]\n",
    "\n",
    "    rects = ax1.barh(y_labels, count_by_order,\n",
    "                     align='center',\n",
    "                     height=0.65,\n",
    "                     color=PRIMARY_COLOR)\n",
    "\n",
    "\n",
    "    for i, v in enumerate(count_by_order):\n",
    "        offset = 100 if i < len(count_by_order)-1 else -4000\n",
    "        color = PRIMARY_COLOR if i < len(count_by_order)-1 else \"white\"\n",
    "        ax1.text(v + offset, i - 0.01 , str(v),\n",
    "                verticalalignment='center',\n",
    "                horizontalalignment='right',\n",
    "                color=color, fontweight='normal', size=6)\n",
    "\n",
    "    for ax in [ax1, ax2]:\n",
    "        ax.xaxis.set_major_locator(ticker.MaxNLocator(4))\n",
    "        ax.xaxis.set_minor_locator(ticker.MaxNLocator(20))\n",
    "\n",
    "\n",
    "    ax1.tick_params(axis='y', which='major', pad=30)\n",
    "    ax1.set_xlabel('← Number of samples', loc='left')\n",
    "    ax1.set_ylabel('Taxonomic order')\n",
    "    formatter1 = EngFormatter(places=0, sep=\"\\N{THIN SPACE}\")  # U+2009\n",
    "    ax1.xaxis.set_major_formatter(formatter1)\n",
    "    ax1.set_yticklabels(y_labels, fontdict={'horizontalalignment': 'center'})\n",
    "    ax1.yaxis.tick_right()\n",
    "    ax1.invert_xaxis()\n",
    "    ax1.set_title('(a)', loc='left')\n",
    "\n",
    "    boxplot = ax2.boxplot(y_by_order, sym='.', positions=range(13), vert=False,\n",
    "                        patch_artist=True)\n",
    "    ax2.set_xlabel('Exchangeable Potassium ($cmol(+)kg^{-1}$) →', loc='right')\n",
    "\n",
    "    for median in boxplot['medians']:\n",
    "        median.set(color='white', linewidth=1)\n",
    "\n",
    "    for box in boxplot['boxes']:\n",
    "            box.set(facecolor=PRIMARY_COLOR)\n",
    "\n",
    "    for flier in boxplot['fliers']:\n",
    "        flier.set(markersize='1.5', markeredgecolor=\"tab:red\", alpha=0.3, zorder=-1)\n",
    "\n",
    "    ax2.set_xscale('log')\n",
    "    ax2.set_title('(b)', loc='left')\n",
    "    ax2.yaxis.set_ticks_position('none')\n",
    "\n",
    "    plt.tight_layout()\n",
    "    #plt.savefig(os.path.join(IMG_PATH, 'data-summary.png'), dpi=600, transparent=True, format='png')"
   ]
  },
  {
   "cell_type": "markdown",
   "metadata": {},
   "source": [
    "To see an example of use, see [Paper with code / 1. Exploratory Data Analysis](paper.eda.html)"
   ]
  },
  {
   "cell_type": "markdown",
   "metadata": {},
   "source": [
    "## Validation curves"
   ]
  },
  {
   "cell_type": "code",
   "execution_count": null,
   "metadata": {},
   "outputs": [],
   "source": [
    "#|export\n",
    "def plot_validation_curve(x, losses, ax=None, plot_kwargs={}, fill_between_kwargs={}):\n",
    "    Y = np.mean(np.array(losses), axis=0)\n",
    "    SD = np.std(np.array(losses), axis=0) \n",
    "    ax.fill_between(x, Y + SD, Y - SD, **fill_between_kwargs)\n",
    "    ax.plot(x, Y, **plot_kwargs) \n",
    "    return(ax)"
   ]
  },
  {
   "cell_type": "markdown",
   "metadata": {},
   "source": [
    "## Learning curves"
   ]
  },
  {
   "cell_type": "code",
   "execution_count": null,
   "metadata": {},
   "outputs": [],
   "source": [
    "#|export\n",
    "def plot_learning_curve(x, losses_train, losses_valid, ax=None,  train_kwargs={}, valid_kwargs={}):\n",
    "    if ax is None:\n",
    "        ax = plt.gca()\n",
    "    ax.plot(x, losses_train, label='Training', **train_kwargs) \n",
    "    ax.plot(x, losses_valid, label='Validation', **valid_kwargs) \n",
    "    ax.set_yscale('log')\n",
    "    ax.set_xscale('log')\n",
    "    return(ax)"
   ]
  },
  {
   "cell_type": "code",
   "execution_count": null,
   "metadata": {},
   "outputs": [],
   "source": [
    "#|export\n",
    "def plot_capacity(x, capacity, ax=None, **kwargs):\n",
    "    if ax is None:\n",
    "            ax = plt.gca()\n",
    "    ax.bar(x, capacity, width=0.15*np.array(x), color=PRIMARY_COLOR, zorder=99, **kwargs)\n",
    "    ax.set_yscale('log')\n",
    "    ax.set_xscale('log')\n",
    "    # ax.spines.bottom.set_visible(True) \n",
    "    return(ax)"
   ]
  }
 ],
 "metadata": {
  "kernelspec": {
   "display_name": "Python 3 (ipykernel)",
   "language": "python",
   "name": "python3"
  }
 },
 "nbformat": 4,
 "nbformat_minor": 2
}
