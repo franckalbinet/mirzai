{
 "cells": [
  {
   "cell_type": "code",
   "execution_count": null,
   "metadata": {},
   "outputs": [],
   "source": [
    "#| default_exp training.metrics"
   ]
  },
  {
   "cell_type": "markdown",
   "metadata": {},
   "source": [
    "# Metrics\n",
    "\n",
    "> Evaluation metrics"
   ]
  },
  {
   "cell_type": "code",
   "execution_count": null,
   "metadata": {},
   "outputs": [],
   "source": [
    "#| hide\n",
    "from nbdev.showdoc import *"
   ]
  },
  {
   "cell_type": "code",
   "execution_count": null,
   "metadata": {},
   "outputs": [],
   "source": [
    "#|export\n",
    "#nbdev_comment from __future__ import annotations\n",
    "import numpy as np\n",
    "from sklearn.metrics import (r2_score, mean_squared_error, mean_absolute_error)\n",
    "from fastcore.test import *"
   ]
  },
  {
   "cell_type": "code",
   "execution_count": null,
   "metadata": {},
   "outputs": [],
   "source": [
    "#|export\n",
    "def rpd(y:np.ndarray, # Target true value\n",
    "        y_hat:np.ndarray, # Target predicted value\n",
    "       ):\n",
    "    \"\"\"Ratio of Performance to Deviation\"\"\"\n",
    "    sd = np.std(y, ddof=1)\n",
    "    sep = np.sqrt(mean_squared_error(y, y_hat))\n",
    "    return sd / sep"
   ]
  },
  {
   "cell_type": "code",
   "execution_count": null,
   "metadata": {},
   "outputs": [
    {
     "data": {
      "text/plain": [
       "True"
      ]
     },
     "execution_count": null,
     "metadata": {},
     "output_type": "execute_result"
    }
   ],
   "source": [
    "y = np.array([1, 2, 3, 4])\n",
    "y_hat = np.array([2, 3, 4, 5])\n",
    "is_close(rpd(y, y_hat), 1.29, eps=0.001)"
   ]
  },
  {
   "cell_type": "code",
   "execution_count": null,
   "metadata": {},
   "outputs": [],
   "source": [
    "#|export\n",
    "def rpiq(y:np.ndarray, # Target true value\n",
    "         y_hat:np.ndarray, # Target predicted value\n",
    "        ):\n",
    "    \"\"\"Ratio of Performance to Inter-Quartile\"\"\"\n",
    "    q1, q3 = np.percentile(y, [25, 75])\n",
    "    sep = np.sqrt(mean_squared_error(y, y_hat))\n",
    "    return (q3 - q1) / sep"
   ]
  },
  {
   "cell_type": "code",
   "execution_count": null,
   "metadata": {},
   "outputs": [
    {
     "data": {
      "text/plain": [
       "True"
      ]
     },
     "execution_count": null,
     "metadata": {},
     "output_type": "execute_result"
    }
   ],
   "source": [
    "y = np.array([1, 2, 3, 4])\n",
    "y_hat = np.array([2, 3, 4, 5])\n",
    "is_close(rpiq(y, y_hat), 1.5)"
   ]
  },
  {
   "cell_type": "code",
   "execution_count": null,
   "metadata": {},
   "outputs": [],
   "source": [
    "#|export\n",
    "def stb(y:np.ndarray, # Target true value\n",
    "        y_hat:np.ndarray, # Target predicted value\n",
    "       ):\n",
    "    \"\"\"Standardized Bias\"\"\"\n",
    "    q1, q3 = np.percentile(y, [25, 75])\n",
    "    _bias = np.mean(y - y_hat)\n",
    "    return _bias / (q3 - q1)"
   ]
  },
  {
   "cell_type": "code",
   "execution_count": null,
   "metadata": {},
   "outputs": [
    {
     "data": {
      "text/plain": [
       "True"
      ]
     },
     "execution_count": null,
     "metadata": {},
     "output_type": "execute_result"
    }
   ],
   "source": [
    "y = np.array([1, 2, 3, 4])\n",
    "y_hat = np.array([2, 3, 4, 5])\n",
    "is_close(stb(y, y_hat), -0.666, eps=0.001)"
   ]
  },
  {
   "cell_type": "code",
   "execution_count": null,
   "metadata": {},
   "outputs": [],
   "source": [
    "#|export\n",
    "def mape(y:np.ndarray, # Target true value\n",
    "         y_hat:np.ndarray, # Target predicted value\n",
    "        ):\n",
    "    \"\"\"Mean Absolute Percentage Error\"\"\"\n",
    "    return 100 * np.mean(np.abs(y - y_hat) / np.abs(y))"
   ]
  },
  {
   "cell_type": "code",
   "execution_count": null,
   "metadata": {},
   "outputs": [
    {
     "data": {
      "text/plain": [
       "True"
      ]
     },
     "execution_count": null,
     "metadata": {},
     "output_type": "execute_result"
    }
   ],
   "source": [
    "y = np.array([1, 2, 3, 4])\n",
    "y_hat = np.array([2, 3, 4, 5])\n",
    "is_close(mape(y, y_hat), 52.083, eps=0.001)"
   ]
  },
  {
   "cell_type": "code",
   "execution_count": null,
   "metadata": {},
   "outputs": [],
   "source": [
    "#|export\n",
    "def lccc(y:np.ndarray, # Target true value\n",
    "         y_hat:np.ndarray, # Target predicted value\n",
    "        ):\n",
    "    \"\"\"Lin’s concordance correlation coefficient\"\"\"\n",
    "    y = y.flatten()\n",
    "    y_hat = y_hat.flatten()\n",
    "    numerator = 2 * np.corrcoef(y, y_hat)[0, 1] * np.std(y) * np.std(y_hat)\n",
    "    denominator = np.var(y) + np.var(y_hat) + (np.mean(y) - np.mean(y_hat))**2\n",
    "    return numerator / denominator"
   ]
  },
  {
   "cell_type": "code",
   "execution_count": null,
   "metadata": {},
   "outputs": [
    {
     "data": {
      "text/plain": [
       "True"
      ]
     },
     "execution_count": null,
     "metadata": {},
     "output_type": "execute_result"
    }
   ],
   "source": [
    "y = np.array([1, 2, 3, 4])\n",
    "y_hat = np.array([2, 3, 4, 5])\n",
    "is_close(lccc(y, y_hat), 0.714, eps=0.001)"
   ]
  },
  {
   "cell_type": "code",
   "execution_count": null,
   "metadata": {},
   "outputs": [],
   "source": [
    "#|export\n",
    "def eval_reg(y:np.ndarray, # Target true value\n",
    "             y_hat:np.ndarray, # Target predicted value\n",
    "             is_log:bool=True, # True if evaluated values are log-10 transformed\n",
    "            ):\n",
    "    \"\"\"Return metrics bundle (rpd, rpiq, r2, lccc, rmse, mse, mae, mape, bias, stb)\"\"\"\n",
    "    _rpd = rpd(y, y_hat)\n",
    "    _rpiq = rpiq(y, y_hat)\n",
    "    _r2_score = r2_score(y, y_hat)\n",
    "    _bias = np.mean(y - y_hat)\n",
    "    _stb = stb(y, y_hat)\n",
    "    _lccc = lccc(y, y_hat)\n",
    "    if is_log: \n",
    "        y, y_hat = [np.power(10, i) for i in [y, y_hat]]\n",
    "    _rmse = np.sqrt(mean_squared_error(y, y_hat))\n",
    "    _mae = mean_absolute_error(y, y_hat)\n",
    "    _mape = mape(y, y_hat)\n",
    "    return {\n",
    "        'rpd': _rpd,\n",
    "        'rpiq': _rpiq,\n",
    "        'r2': _r2_score,\n",
    "        'lccc': _lccc,\n",
    "        'rmse': _rmse,\n",
    "        'mse': mean_squared_error(y, y_hat),\n",
    "        'mae': _mae,\n",
    "        'mape': _mape,\n",
    "        'bias': _bias,\n",
    "        'stb': _stb\n",
    "    }"
   ]
  },
  {
   "cell_type": "code",
   "execution_count": null,
   "metadata": {},
   "outputs": [
    {
     "data": {
      "text/plain": [
       "{'rpd': 1.2909944487358056,\n",
       " 'rpiq': 1.5,\n",
       " 'r2': 0.19999999999999996,\n",
       " 'lccc': 0.7142857142857144,\n",
       " 'rmse': 45226.70146053103,\n",
       " 'mse': 2045454525.0,\n",
       " 'mae': 24997.5,\n",
       " 'mape': 900.0,\n",
       " 'bias': -1.0,\n",
       " 'stb': -0.6666666666666666}"
      ]
     },
     "execution_count": null,
     "metadata": {},
     "output_type": "execute_result"
    }
   ],
   "source": [
    "eval_reg(y, y_hat)"
   ]
  }
 ],
 "metadata": {
  "kernelspec": {
   "display_name": "Python 3 (ipykernel)",
   "language": "python",
   "name": "python3"
  }
 },
 "nbformat": 4,
 "nbformat_minor": 2
}
