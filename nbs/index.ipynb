{
 "cells": [
  {
   "cell_type": "markdown",
   "metadata": {},
   "source": [
    "> Prediction of Exchangeable Potassium in Soil through Mid-Infrared Spectroscopy and Deep Learning: from Prediction to Explainability, Albinet et al., 2022"
   ]
  },
  {
   "cell_type": "markdown",
   "metadata": {},
   "source": [
    "The [mirzai](https://pypi.org/project/mirzai/) Python Package, the present [documentation](https://fr.anckalbi.net/mirzai/) and associated notebooks ensure the reproducibility of the above-mentioned [scientific paper](no-link)."
   ]
  },
  {
   "cell_type": "markdown",
   "metadata": {},
   "source": [
    "## Paper with code"
   ]
  },
  {
   "cell_type": "markdown",
   "metadata": {},
   "source": [
    "1. [Exploratory Data Analysis (Fig. 1)](paper/paper.eda.html)\n",
    "\n",
    "2. [Data selection and transformation](paper/02_select_transform.html)\n",
    "\n",
    "3. Baseline model (PLSR):\n",
    "    * [Learning curve](paper/03_plsr_learning_curve.html)\n",
    "    * [Training & evaluation](paper/04_plsr_train_eval.html)\n",
    "\n",
    "4. Convolutional Neural Network (CNN):\n",
    "    * [Learning rate finder](paper/13_cnn_lr_finder.html)\n",
    "    * [Learning curve](paper/05_cnn_learning_curve.html)\n",
    "    * [Training & evaluation](paper/06_cnn_train_eval.html)\n",
    "    * [Validation curve by Soil Taxonomy Orders (Fig. 5)](paper/07_cnn_valid_curve_by_tax.html)\n",
    "    \n",
    "5. PLSR vs. CNN figures:\n",
    "    * [Learning curves (Fig. 3)](paper/08_figures_learning_curves.html)\n",
    "    * [Observed vs. predicted scatterplots (Fig. 4)](paper/12_figures_observed_vs_predicted.html)\n",
    "    * [Global vs. local modelling (Fig. 6)](paper/09_figures_global_vs_local.html)\n",
    "\n",
    "6. Interpretability     \n",
    "    * [GradientShap values (Fig. 7))](paper/10_interpretation_gradshap.html)\n",
    "    * [GradientShap values correlation (Fig. 8)](paper/11_interpretation_gradshap_corr.html)"
   ]
  },
  {
   "cell_type": "markdown",
   "metadata": {},
   "source": [
    "## Setup"
   ]
  },
  {
   "cell_type": "markdown",
   "metadata": {},
   "source": [
    "### Getting the data"
   ]
  },
  {
   "cell_type": "markdown",
   "metadata": {},
   "source": [
    "A zipped archive of the data used in this study are available for download at the following link: \n",
    "[https://drive.google.com/drive/folders/1VGfrBexMPCFvoUa1VW26n-zO9v5WHeFh?usp=sharing](https://drive.google.com/drive/folders/1VGfrBexMPCFvoUa1VW26n-zO9v5WHeFh?usp=sharing)"
   ]
  },
  {
   "cell_type": "markdown",
   "metadata": {},
   "source": [
    "### In a local environment"
   ]
  },
  {
   "cell_type": "markdown",
   "metadata": {},
   "source": [
    "The preferred way it to use [Mamba](https://mamba.readthedocs.io). Mamba is a fast, robust, and cross-platform package manager.\n",
    "\n",
    "To install the required dependency and proper Python version:\n",
    "\n",
    "* Clone `git clone git@github.com:franckalbinet/mirzai.git` or download the [https://github.com/franckalbinet/mirzai](https://github.com/franckalbinet/mirzai) into your local environement\n",
    "* In `mirzai/` root folder, execute the following Mamba command `mamba env create -f environment.yml`\n",
    "\n",
    "Here below the content of `mirzai/environment.yml` file listing required Python version and packages:\n",
    "```\n",
    "name: mirzai\n",
    "channels:\n",
    "  - conda-forge\n",
    "  - fastchan\n",
    "  - pytorch\n",
    "dependencies:\n",
    "  - python=3.8\n",
    "  - nbdev\n",
    "  - jupyterlab\n",
    "  - numpy\n",
    "  - scipy\n",
    "  - matplotlib=3.5.1\n",
    "  - scikit-learn\n",
    "  - pytorch\n",
    "  - torchvision=0.12.0\n",
    "  - tqdm\n",
    "  - captum\n",
    "```\n",
    "\n",
    "* Then activate the Python environement generated: `mamba activate mirzai`\n",
    "\n",
    "* And finally launch `jupyter notebook`"
   ]
  },
  {
   "cell_type": "markdown",
   "metadata": {},
   "source": [
    "### In Google Colab"
   ]
  },
  {
   "cell_type": "markdown",
   "metadata": {},
   "source": [
    "Google Colab has been used to perform the experiments described in the above mentioned paper. The main advantage of Colab is to give access to a GPU (Graphical Processing Unit) which allows to train Deep Learning model in a fair amount of time. Please refer to [Colab FAQ](https://research.google.com/colaboratory/faq.html) for further information.\n",
    "\n",
    "Each notebook listed above includes a <img src=\"./images/colab-link.png\" style=\"display: inline; width: 100px\" />  link to load it in the Google Colab environment. When clicking on those links, the notebook will get loaded in Google Colab.\n",
    "\n",
    "Then, once open in Colab, you will need:\n",
    "\n",
    "1. To mount Google drive to access the data uploaded\n",
    "2. To install the `mirzai` Python package\n",
    "\n",
    "These two steps are already included on top of each notebook and will be executed if on Colab:\n",
    "\n",
    "```\n",
    "if 'google.colab' in str(get_ipython()):\n",
    "    from google.colab import drive\n",
    "    drive.mount('/content/drive',  force_remount=False)\n",
    "    !pip install mirzai\n",
    "```"
   ]
  },
  {
   "cell_type": "markdown",
   "metadata": {},
   "source": [
    "To locate the Google Drive folder where you uploaded the data, follow the 3 steps shown below:\n",
    "    \n",
    "1. Click the \"Files\" icon in the Colab left panel then click on \"MyDrive\"\n",
    "2. Navigate to the directory containing the data then click on the \" 3 vertical dots\" icon \n",
    "3. Click on \"Copy path\" to copy the full path (for instance `/content/drive/MyDrive/research/predict-k-mirs-dl/data`)"
   ]
  },
  {
   "cell_type": "markdown",
   "metadata": {},
   "source": [
    "<img src=\"./images/mounting-drive.png\" style=\"display: inline; width: 800px\" /> "
   ]
  },
  {
   "cell_type": "markdown",
   "metadata": {},
   "source": [
    "Last, when a GPU is required (e.g when training the Convolutional Neural Network or computing the GradientShap values), change runtime type in `Colab` top menu: Runtime &#9654; Change runtime type &#9654; and select `GPU` in the \"Hardware accelerator\" select box."
   ]
  },
  {
   "cell_type": "markdown",
   "metadata": {},
   "source": [
    "## Acknowledgements"
   ]
  },
  {
   "cell_type": "markdown",
   "metadata": {},
   "source": [
    "*This work was carried out in the context of the IAEA funded Coordinated Research Project (CRP D1.50.19) titled [“Remediation of Radioactive Contaminated Agricultural Land”](https://www.iaea.org/projects/crp/d15019), under IAEA Technical Contract n°23685.* \n",
    "\n",
    "*We also thank Richard Ferguson from Kellogg Soil Survey Laboratory for providing access to the USDA MIR soil spectra library and the r equired training sessions for its operation.*"
   ]
  },
  {
   "cell_type": "markdown",
   "metadata": {},
   "source": [
    "## Others\n",
    "\n",
    "The name `mirzai` comes from Mid-InfraRed Spectroscopy with AI but also is a way to pay tribute to [Nino Ferrer's song \"Mirza\"](https://www.youtube.com/watch?v=5PN2yfuzgQY)"
   ]
  }
 ],
 "metadata": {
  "kernelspec": {
   "display_name": "Python 3 (ipykernel)",
   "language": "python",
   "name": "python3"
  }
 },
 "nbformat": 4,
 "nbformat_minor": 2
}
