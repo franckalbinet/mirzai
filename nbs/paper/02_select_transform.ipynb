{
 "cells": [
  {
   "cell_type": "markdown",
   "metadata": {},
   "source": [
    "[![](https://colab.research.google.com/assets/colab-badge.svg)](https://colab.research.google.com/github/franckalbinet/mirzai/blob/main/nbs/06_paper.select_transform.ipynb)"
   ]
  },
  {
   "cell_type": "markdown",
   "metadata": {},
   "source": [
    "# 2. Select & transform\n",
    "\n",
    "> Selection of data subset based on features, target and auxiliary data such as Soil Taxonomy order. Simple transformation such as log-10 transform of the target is also done (and piped)."
   ]
  },
  {
   "cell_type": "code",
   "execution_count": null,
   "metadata": {},
   "outputs": [],
   "source": [
    "if 'google.colab' in str(get_ipython()):\n",
    "    from google.colab import drive\n",
    "    drive.mount('/content/drive',  force_remount=False)\n",
    "    !pip install mirzai\n",
    "else:\n",
    "    %load_ext autoreload\n",
    "    %autoreload 2"
   ]
  },
  {
   "cell_type": "code",
   "execution_count": null,
   "metadata": {},
   "outputs": [],
   "source": [
    "from mirzai.data.loading import load_kssl\n",
    "from mirzai.data.selection import (select_y, select_tax_order, select_X)\n",
    "from mirzai.data.transform import log_transform_y\n",
    "\n",
    "from fastcore.transform import compose\n",
    "\n",
    "import warnings\n",
    "warnings.filterwarnings('ignore')"
   ]
  },
  {
   "cell_type": "markdown",
   "metadata": {},
   "source": [
    "## 2.1 Piping data selection and simple transformation"
   ]
  },
  {
   "cell_type": "code",
   "execution_count": null,
   "metadata": {},
   "outputs": [],
   "source": [
    "src_dir = 'data'\n",
    "fnames = ['spectra-features.npy', 'spectra-wavenumbers.npy', \n",
    "          'depth-order.npy', 'target.npy', \n",
    "          'tax-order-lu.pkl', 'spectra-id.npy']\n",
    "\n",
    "X, X_names, depth_order, y, tax_lookup, X_id = load_kssl(src_dir, fnames=fnames)"
   ]
  },
  {
   "cell_type": "code",
   "execution_count": null,
   "metadata": {},
   "outputs": [
    {
     "name": "stdout",
     "output_type": "stream",
     "text": [
      "X shape: (50494, 1764)\n",
      "y shape: (50494,)\n",
      "Wavenumbers:\n",
      " [3999 3997 3995 ...  603  601  599]\n",
      "depth_order (first 3 rows):\n",
      " [[43.  2.]\n",
      " [ 0.  0.]\n",
      " [ 0.  1.]]\n",
      "Taxonomic order lookup:\n",
      " {'alfisols': 0, 'mollisols': 1, 'inceptisols': 2, 'entisols': 3, 'spodosols': 4, 'undefined': 5, 'ultisols': 6, 'andisols': 7, 'histosols': 8, 'oxisols': 9, 'vertisols': 10, 'aridisols': 11, 'gelisols': 12}\n"
     ]
    }
   ],
   "source": [
    "print(f'X shape: {X.shape}')\n",
    "print(f'y shape: {y.shape}')\n",
    "print(f'Wavenumbers:\\n {X_names}')\n",
    "print(f'depth_order (first 3 rows):\\n {depth_order[:3, :]}')\n",
    "print(f'Taxonomic order lookup:\\n {tax_lookup}')"
   ]
  },
  {
   "cell_type": "code",
   "execution_count": null,
   "metadata": {},
   "outputs": [],
   "source": [
    "data = X, y, X_id, depth_order\n",
    "\n",
    "transforms = [select_y, select_tax_order, select_X, log_transform_y]\n",
    "X, y, X_id, depth_order = compose(*transforms)(data)"
   ]
  },
  {
   "cell_type": "code",
   "execution_count": null,
   "metadata": {},
   "outputs": [
    {
     "name": "stdout",
     "output_type": "stream",
     "text": [
      "X shape: (40132, 1764)\n",
      "y shape: (40132,)\n",
      "depth_order shape: (40132, 2)\n"
     ]
    }
   ],
   "source": [
    "print(f'X shape: {X.shape}')\n",
    "print(f'y shape: {y.shape}')\n",
    "print(f'depth_order shape: {depth_order.shape}')"
   ]
  }
 ],
 "metadata": {
  "kernelspec": {
   "display_name": "Python 3 (ipykernel)",
   "language": "python",
   "name": "python3"
  }
 },
 "nbformat": 4,
 "nbformat_minor": 2
}
