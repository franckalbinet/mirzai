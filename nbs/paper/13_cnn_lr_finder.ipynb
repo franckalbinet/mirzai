{
 "cells": [
  {
   "cell_type": "markdown",
   "id": "22627c5f",
   "metadata": {},
   "source": [
    "[![](https://colab.research.google.com/assets/colab-badge.svg)](https://colab.research.google.com/github/franckalbinet/mirzai/blob/main/nbs/paper/13_cnn_lr_finder.ipynb)"
   ]
  },
  {
   "cell_type": "markdown",
   "id": "8ad40bd3",
   "metadata": {},
   "source": [
    "# 4.1 CNN learning rate finder\n",
    "\n",
    "> Implementing Learning Rate Finder as describued in Smith, L.N., 2017. Cyclical learning rates for training neural networks, in: 2017 IEEE Winter Conference on Applications of Computer Vision (WACV). IEEE, pp. 464–472. https://arxiv.org/abs/1506.01186]"
   ]
  },
  {
   "cell_type": "code",
   "execution_count": null,
   "id": "4723d69a",
   "metadata": {},
   "outputs": [
    {
     "name": "stdout",
     "output_type": "stream",
     "text": [
      "Mounted at /content/drive\n",
      "Looking in indexes: https://pypi.org/simple, https://us-python.pkg.dev/colab-wheels/public/simple/\n",
      "Collecting mirzai\n",
      "  Downloading mirzai-0.3.0-py3-none-any.whl (26 kB)\n",
      "Requirement already satisfied: torch in /usr/local/lib/python3.7/dist-packages (from mirzai) (1.12.1+cu113)\n",
      "Requirement already satisfied: pandas in /usr/local/lib/python3.7/dist-packages (from mirzai) (1.3.5)\n",
      "Requirement already satisfied: scipy in /usr/local/lib/python3.7/dist-packages (from mirzai) (1.7.3)\n",
      "Collecting matplotlib>=3.5.1\n",
      "  Downloading matplotlib-3.5.3-cp37-cp37m-manylinux_2_5_x86_64.manylinux1_x86_64.whl (11.2 MB)\n",
      "\u001b[K     |████████████████████████████████| 11.2 MB 10.7 MB/s \n",
      "\u001b[?25hRequirement already satisfied: torchvision in /usr/local/lib/python3.7/dist-packages (from mirzai) (0.13.1+cu113)\n",
      "Requirement already satisfied: fastcore in /usr/local/lib/python3.7/dist-packages (from mirzai) (1.5.25)\n",
      "Collecting captum\n",
      "  Downloading captum-0.5.0-py3-none-any.whl (1.4 MB)\n",
      "\u001b[K     |████████████████████████████████| 1.4 MB 64.4 MB/s \n",
      "\u001b[?25hRequirement already satisfied: scikit-learn in /usr/local/lib/python3.7/dist-packages (from mirzai) (1.0.2)\n",
      "Requirement already satisfied: numpy in /usr/local/lib/python3.7/dist-packages (from mirzai) (1.21.6)\n",
      "Requirement already satisfied: tqdm in /usr/local/lib/python3.7/dist-packages (from mirzai) (4.64.1)\n",
      "Requirement already satisfied: pyparsing>=2.2.1 in /usr/local/lib/python3.7/dist-packages (from matplotlib>=3.5.1->mirzai) (3.0.9)\n",
      "Requirement already satisfied: kiwisolver>=1.0.1 in /usr/local/lib/python3.7/dist-packages (from matplotlib>=3.5.1->mirzai) (1.4.4)\n",
      "Requirement already satisfied: pillow>=6.2.0 in /usr/local/lib/python3.7/dist-packages (from matplotlib>=3.5.1->mirzai) (7.1.2)\n",
      "Requirement already satisfied: cycler>=0.10 in /usr/local/lib/python3.7/dist-packages (from matplotlib>=3.5.1->mirzai) (0.11.0)\n",
      "Requirement already satisfied: packaging>=20.0 in /usr/local/lib/python3.7/dist-packages (from matplotlib>=3.5.1->mirzai) (21.3)\n",
      "Requirement already satisfied: python-dateutil>=2.7 in /usr/local/lib/python3.7/dist-packages (from matplotlib>=3.5.1->mirzai) (2.8.2)\n",
      "Collecting fonttools>=4.22.0\n",
      "  Downloading fonttools-4.37.1-py3-none-any.whl (957 kB)\n",
      "\u001b[K     |████████████████████████████████| 957 kB 65.0 MB/s \n",
      "\u001b[?25hRequirement already satisfied: typing-extensions in /usr/local/lib/python3.7/dist-packages (from kiwisolver>=1.0.1->matplotlib>=3.5.1->mirzai) (4.1.1)\n",
      "Requirement already satisfied: six>=1.5 in /usr/local/lib/python3.7/dist-packages (from python-dateutil>=2.7->matplotlib>=3.5.1->mirzai) (1.15.0)\n",
      "Requirement already satisfied: pip in /usr/local/lib/python3.7/dist-packages (from fastcore->mirzai) (21.1.3)\n",
      "Requirement already satisfied: pytz>=2017.3 in /usr/local/lib/python3.7/dist-packages (from pandas->mirzai) (2022.2.1)\n",
      "Requirement already satisfied: threadpoolctl>=2.0.0 in /usr/local/lib/python3.7/dist-packages (from scikit-learn->mirzai) (3.1.0)\n",
      "Requirement already satisfied: joblib>=0.11 in /usr/local/lib/python3.7/dist-packages (from scikit-learn->mirzai) (1.1.0)\n",
      "Requirement already satisfied: requests in /usr/local/lib/python3.7/dist-packages (from torchvision->mirzai) (2.23.0)\n",
      "Requirement already satisfied: urllib3!=1.25.0,!=1.25.1,<1.26,>=1.21.1 in /usr/local/lib/python3.7/dist-packages (from requests->torchvision->mirzai) (1.24.3)\n",
      "Requirement already satisfied: chardet<4,>=3.0.2 in /usr/local/lib/python3.7/dist-packages (from requests->torchvision->mirzai) (3.0.4)\n",
      "Requirement already satisfied: idna<3,>=2.5 in /usr/local/lib/python3.7/dist-packages (from requests->torchvision->mirzai) (2.10)\n",
      "Requirement already satisfied: certifi>=2017.4.17 in /usr/local/lib/python3.7/dist-packages (from requests->torchvision->mirzai) (2022.6.15)\n",
      "Installing collected packages: fonttools, matplotlib, captum, mirzai\n",
      "  Attempting uninstall: matplotlib\n",
      "    Found existing installation: matplotlib 3.2.2\n",
      "    Uninstalling matplotlib-3.2.2:\n",
      "      Successfully uninstalled matplotlib-3.2.2\n",
      "Successfully installed captum-0.5.0 fonttools-4.37.1 matplotlib-3.5.3 mirzai-0.3.0\n"
     ]
    },
    {
     "data": {
      "application/vnd.colab-display-data+json": {
       "pip_warning": {
        "packages": [
         "matplotlib",
         "mpl_toolkits"
        ]
       }
      }
     },
     "metadata": {},
     "output_type": "display_data"
    }
   ],
   "source": [
    "if 'google.colab' in str(get_ipython()):\n",
    "    from google.colab import drive\n",
    "    drive.mount('/content/drive',  force_remount=False)\n",
    "    !pip install mirzai\n",
    "else:\n",
    "    %load_ext autoreload\n",
    "    %autoreload 2"
   ]
  },
  {
   "cell_type": "code",
   "execution_count": null,
   "id": "98e4d8bc",
   "metadata": {},
   "outputs": [],
   "source": [
    "from pathlib import Path\n",
    "import pickle\n",
    "\n",
    "# import numpy as np\n",
    "import pandas as pd\n",
    "\n",
    "from sklearn.model_selection import train_test_split\n",
    "\n",
    "from mirzai.data.loading import load_kssl\n",
    "from mirzai.data.selection import (select_y, select_tax_order, select_X)\n",
    "from mirzai.data.transform import log_transform_y\n",
    "from mirzai.data.torch import DataLoaders, SNV_transform\n",
    "from mirzai.training.cnn import (Model, weights_init)\n",
    "from mirzai.training.cnn import Learner\n",
    "\n",
    "# Deep Learning stack\n",
    "import torch\n",
    "from torch.optim import Adam\n",
    "from torch.nn import MSELoss\n",
    "\n",
    "from fastcore.transform import compose\n",
    "\n",
    "import warnings\n",
    "warnings.filterwarnings('ignore')"
   ]
  },
  {
   "cell_type": "markdown",
   "id": "92d2bbb8",
   "metadata": {},
   "source": [
    "## 1. Load and transform"
   ]
  },
  {
   "cell_type": "markdown",
   "id": "7b59044c",
   "metadata": {},
   "source": [
    "### Load data"
   ]
  },
  {
   "cell_type": "code",
   "execution_count": null,
   "id": "0b774f17",
   "metadata": {},
   "outputs": [
    {
     "name": "stdout",
     "output_type": "stream",
     "text": [
      "(40132, 1764)\n"
     ]
    }
   ],
   "source": [
    "src_dir = '/content/drive/MyDrive/research/predict-k-mirs-dl/data/potassium'\n",
    "fnames = ['spectra-features.npy', 'spectra-wavenumbers.npy', \n",
    "          'depth-order.npy', 'target.npy', \n",
    "          'tax-order-lu.pkl', 'spectra-id.npy']\n",
    "\n",
    "\n",
    "X, X_names, depth_order, y, tax_lookup, X_id = load_kssl(src_dir, fnames=fnames)\n",
    "transforms = [select_y, select_tax_order, select_X, log_transform_y]\n",
    "\n",
    "data = X, y, X_id, depth_order\n",
    "X, y, X_id, depth_order = compose(*transforms)(data)\n",
    "print(X.shape)"
   ]
  },
  {
   "cell_type": "markdown",
   "id": "38e92e3f",
   "metadata": {},
   "source": [
    "### Create data loaders"
   ]
  },
  {
   "cell_type": "code",
   "execution_count": null,
   "id": "7ad2bfd6",
   "metadata": {},
   "outputs": [],
   "source": [
    "split_ratio = 0.1\n",
    "\n",
    "# Train/test split\n",
    "X_train, X_test, y_train, y_test, tax_order_train, tax_order_test = train_test_split(X, \n",
    "                                                                                     y, \n",
    "                                                                                     depth_order[:,1], \n",
    "                                                                                     test_size=split_ratio,\n",
    "                                                                                     random_state=42)\n",
    "\n",
    "# Further train/valid split\n",
    "X_train, X_valid, y_train, y_valid, tax_order_train, tax_order_valid = train_test_split(X_train, \n",
    "                                                                                      y_train,\n",
    "                                                                                      tax_order_train, \n",
    "                                                                                      test_size=split_ratio, \n",
    "                                                                                      random_state=42)\n",
    "\n",
    "\n",
    "dls = DataLoaders((X_train, y_train, tax_order_train), \n",
    "                  (X_valid, y_valid, tax_order_valid),\n",
    "                  (X_test, y_test, tax_order_test), \n",
    "                  transform=SNV_transform())\n",
    "training_generator, validation_generator, test_generator = dls.loaders()"
   ]
  },
  {
   "cell_type": "markdown",
   "id": "3c1a5911",
   "metadata": {},
   "source": [
    "## 2. Setup"
   ]
  },
  {
   "cell_type": "code",
   "execution_count": null,
   "id": "18b4543a",
   "metadata": {},
   "outputs": [
    {
     "name": "stdout",
     "output_type": "stream",
     "text": [
      "Runtime is: cuda:0\n"
     ]
    }
   ],
   "source": [
    "# Is a GPU available?\n",
    "use_cuda = torch.cuda.is_available()\n",
    "device = torch.device('cuda:0' if use_cuda else 'cpu')\n",
    "print(f'Runtime is: {device}')\n",
    "\n",
    "n_epochs = 20\n",
    "step_size_up = 5\n",
    "criterion = MSELoss() # Mean Squared Error loss"
   ]
  },
  {
   "cell_type": "markdown",
   "id": "b0c4d2ff",
   "metadata": {},
   "source": [
    "### 4. Train"
   ]
  },
  {
   "cell_type": "code",
   "execution_count": null,
   "id": "1a0c61ad",
   "metadata": {},
   "outputs": [
    {
     "name": "stdout",
     "output_type": "stream",
     "text": [
      "Epoch: 0\n",
      "Epoch: 1\n",
      "Epoch: 2\n",
      "Epoch: 3\n",
      "Epoch: 4\n",
      "Epoch: 5\n",
      "Epoch: 6\n",
      "Epoch: 7\n"
     ]
    }
   ],
   "source": [
    "## LR finder\n",
    "model = Model(X.shape[1], out_channel=16).to(device)\n",
    "\n",
    "opt = Adam(model.parameters(), lr=1e-4)\n",
    "model = model.apply(weights_init)\n",
    "\n",
    "learner = Learner(model, criterion, opt, n_epochs=n_epochs, \n",
    "                  scheduler=None, early_stopper=None,\n",
    "                  tax_lookup=tax_lookup.values(), verbose=True)\n",
    "\n",
    "lrs, losses = learner.lr_finder(training_generator, end=0.1, n_epochs=8)"
   ]
  },
  {
   "cell_type": "markdown",
   "id": "yYjacznfzRpk",
   "metadata": {},
   "source": [
    "### 5. Save & load\n"
   ]
  },
  {
   "cell_type": "code",
   "execution_count": null,
   "id": "57CCN4y4zaFN",
   "metadata": {},
   "outputs": [],
   "source": [
    "dest_dir = Path('/content/drive/MyDrive/research/predict-k-mirs-dl/dumps/cnn/lr_finder')\n",
    "with open(dest_dir/f'cnn-lr.pickle', 'wb') as f: \n",
    "    pickle.dump([lrs, losses], f)"
   ]
  },
  {
   "cell_type": "code",
   "execution_count": null,
   "id": "scczbbwg0Bpx",
   "metadata": {},
   "outputs": [],
   "source": [
    "src_dir = Path('/content/drive/MyDrive/research/predict-k-mirs-dl/dumps/cnn/lr_finder')\n",
    "with open(src_dir/f'cnn-lr.pickle', 'rb') as f: \n",
    "    lrs, losses = pickle.load(f)"
   ]
  },
  {
   "cell_type": "code",
   "execution_count": null,
   "id": "ufGk71Sf0jnR",
   "metadata": {},
   "outputs": [
    {
     "data": {
      "image/png": "[encoded data removed]",
      "text/plain": [
       "<Figure size 432x288 with 1 Axes>"
      ]
     },
     "metadata": {
      "needs_background": "light"
     },
     "output_type": "display_data"
    }
   ],
   "source": [
    "pd.DataFrame({'learning_rate': lrs, 'loss': losses}).plot(x='learning_rate', y='loss', logx=True);"
   ]
  }
 ],
 "metadata": {
  "kernelspec": {
   "display_name": "Python 3 (ipykernel)",
   "language": "python",
   "name": "python3"
  }
 },
 "nbformat": 4,
 "nbformat_minor": 5
}
